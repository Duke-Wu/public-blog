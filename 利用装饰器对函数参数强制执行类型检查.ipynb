{
 "cells": [
  {
   "cell_type": "markdown",
   "metadata": {},
   "source": [
    "## 利用装饰器对函数参数强制执行类型检查"
   ]
  },
  {
   "cell_type": "code",
   "execution_count": 13,
   "metadata": {},
   "outputs": [
    {
     "data": {
      "text/plain": [
       "35"
      ]
     },
     "execution_count": 13,
     "metadata": {},
     "output_type": "execute_result"
    }
   ],
   "source": [
    "from inspect import signature\n",
    "from functools import wraps\n",
    "\n",
    "def typeassert(*ty_args, **ty_kwargs):\n",
    "    def decorate(func):\n",
    "        if not __debug__:\n",
    "            return func\n",
    "        sig = signature(func)\n",
    "        bound_types = sig.bind_partial(*ty_args, **ty_kwargs).arguments\n",
    "        @wraps(func)\n",
    "        def wrapper(*args, **kwargs):\n",
    "            bound_values = sig.bind(*args, **kwargs)\n",
    "            for name, value in bound_values.arguments.items():\n",
    "                if name in bound_types:\n",
    "                    if not isinstance(value, bound_types[name]):\n",
    "                        raise TypeError(\n",
    "                            'Argument {} must be {}'.format(name, bound_types[name])\n",
    "                        )\n",
    "            return func(*args, **kwargs)\n",
    "        return wrapper\n",
    "    return decorate\n",
    "\n",
    "@typeassert(int,int)        \n",
    "def add(x:int, y:int)->int:\n",
    "    return x + y\n",
    "\n",
    "add(12,23)"
   ]
  },
  {
   "cell_type": "code",
   "execution_count": null,
   "metadata": {},
   "outputs": [],
   "source": []
  }
 ],
 "metadata": {
  "kernelspec": {
   "display_name": "Python 3",
   "language": "python",
   "name": "python3"
  },
  "language_info": {
   "codemirror_mode": {
    "name": "ipython",
    "version": 3
   },
   "file_extension": ".py",
   "mimetype": "text/x-python",
   "name": "python",
   "nbconvert_exporter": "python",
   "pygments_lexer": "ipython3",
   "version": "3.6.5"
  }
 },
 "nbformat": 4,
 "nbformat_minor": 2
}
